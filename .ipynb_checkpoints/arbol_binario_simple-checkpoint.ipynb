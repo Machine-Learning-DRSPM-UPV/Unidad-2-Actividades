{
 "cells": [
  {
   "cell_type": "markdown",
   "id": "cf54482c-fbc7-4ce6-bccc-bdcba1f88d7f",
   "metadata": {},
   "source": [
    "# Unidad 2 - Actividad 1\n",
    "## Arboles binario.\n",
    "\n",
    "\n",
    "Desarrolle una clase que implemente un árbol binario. Se necesitan las siguientes operaciones en dicho árbol binario:\n",
    "\n",
    "  * Inserción\n",
    "  * Eliminación\n",
    "  * búsqueda\n",
    "  \n",
    "Se deberá mostrar (mediante la librería networkX) la representación gráfica del árbol para cada operación."
   ]
  },
  {
   "cell_type": "code",
   "execution_count": null,
   "id": "42e8787c-9457-428d-8d86-577dfe693422",
   "metadata": {},
   "outputs": [],
   "source": []
  }
 ],
 "metadata": {
  "kernelspec": {
   "display_name": "Python 3 (ipykernel)",
   "language": "python",
   "name": "python3"
  },
  "language_info": {
   "codemirror_mode": {
    "name": "ipython",
    "version": 3
   },
   "file_extension": ".py",
   "mimetype": "text/x-python",
   "name": "python",
   "nbconvert_exporter": "python",
   "pygments_lexer": "ipython3",
   "version": "3.8.12"
  }
 },
 "nbformat": 4,
 "nbformat_minor": 5
}
