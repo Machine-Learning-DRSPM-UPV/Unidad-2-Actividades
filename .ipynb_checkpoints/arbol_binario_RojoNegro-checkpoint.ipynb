{
 "cells": [
  {
   "cell_type": "markdown",
   "id": "b00a5b70-b1ce-463a-aff3-8f9ee2ca69f2",
   "metadata": {},
   "source": [
    "# Unidad 2 - Actividad 1\n",
    "## Arboles binario Rojo - Negro.\n",
    "\n",
    "\n",
    "Desarrolle una clase que implemente un árbol binario Rojo - Negro. Se necesitan las siguientes operaciones en dicho árbol binario:\n",
    "\n",
    "  * Inserción\n",
    "  * Eliminación\n",
    "  * búsqueda\n",
    "  \n",
    "Se deberá mostrar (mediante la librería networkX) la representación gráfica del árbol para cada operación.\n",
    "\n",
    "Nota: Se deberá mostrar fielmente los colores de los nodos."
   ]
  },
  {
   "cell_type": "code",
   "execution_count": null,
   "id": "333622ce-c426-4da1-a5db-06984bbcd2eb",
   "metadata": {},
   "outputs": [],
   "source": []
  }
 ],
 "metadata": {
  "kernelspec": {
   "display_name": "Python 3 (ipykernel)",
   "language": "python",
   "name": "python3"
  },
  "language_info": {
   "codemirror_mode": {
    "name": "ipython",
    "version": 3
   },
   "file_extension": ".py",
   "mimetype": "text/x-python",
   "name": "python",
   "nbconvert_exporter": "python",
   "pygments_lexer": "ipython3",
   "version": "3.8.12"
  }
 },
 "nbformat": 4,
 "nbformat_minor": 5
}
