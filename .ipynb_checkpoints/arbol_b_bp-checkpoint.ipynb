{
 "cells": [
  {
   "cell_type": "markdown",
   "id": "b4f489d3-cd85-418e-9d73-819778a4eb24",
   "metadata": {},
   "source": [
    "# Unidad 2 - Actividad 1\n",
    "## Árbol B/B+.\n",
    "\n",
    "\n",
    "Desarrolle una clase que implemente un árbol B/B+. Se necesitan las siguientes operaciones en dicho árbol binario:\n",
    "\n",
    "  * Inserción\n",
    "  * Eliminación\n",
    "  * búsqueda\n",
    "  \n",
    "Se deberá mostrar (mediante la librería networkX) la representación gráfica del árbol para cada operación."
   ]
  },
  {
   "cell_type": "code",
   "execution_count": null,
   "id": "3da701d6-e16b-41e7-968b-8b29178f309c",
   "metadata": {},
   "outputs": [],
   "source": []
  }
 ],
 "metadata": {
  "kernelspec": {
   "display_name": "Python 3 (ipykernel)",
   "language": "python",
   "name": "python3"
  },
  "language_info": {
   "codemirror_mode": {
    "name": "ipython",
    "version": 3
   },
   "file_extension": ".py",
   "mimetype": "text/x-python",
   "name": "python",
   "nbconvert_exporter": "python",
   "pygments_lexer": "ipython3",
   "version": "3.8.12"
  }
 },
 "nbformat": 4,
 "nbformat_minor": 5
}
