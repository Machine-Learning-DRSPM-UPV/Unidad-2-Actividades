{
 "cells": [
  {
   "cell_type": "markdown",
   "id": "f400c211-fa17-43ce-b6e3-dddc8d661921",
   "metadata": {},
   "source": [
    "# Unidad 2 - Actividad 1\n",
    "## Arboles binario de búsqueda.\n",
    "\n",
    "\n",
    "Desarrolle una clase que implemente un árbol binario de búsqueda. Se necesitan las siguientes operaciones en dicho árbol binario:\n",
    "\n",
    "  * Inserción\n",
    "  * Eliminación\n",
    "  * búsqueda\n",
    "  \n",
    "Se deberá mostrar (mediante la librería networkX) la representación gráfica del árbol para cada operación."
   ]
  },
  {
   "cell_type": "code",
   "execution_count": null,
   "id": "0a6b1001-fc4e-4e29-8200-6c845bcc20cc",
   "metadata": {},
   "outputs": [],
   "source": []
  }
 ],
 "metadata": {
  "kernelspec": {
   "display_name": "Python 3 (ipykernel)",
   "language": "python",
   "name": "python3"
  },
  "language_info": {
   "codemirror_mode": {
    "name": "ipython",
    "version": 3
   },
   "file_extension": ".py",
   "mimetype": "text/x-python",
   "name": "python",
   "nbconvert_exporter": "python",
   "pygments_lexer": "ipython3",
   "version": "3.8.12"
  }
 },
 "nbformat": 4,
 "nbformat_minor": 5
}
